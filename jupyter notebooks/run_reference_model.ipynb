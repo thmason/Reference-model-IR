{
 "cells": [
  {
   "cell_type": "code",
   "execution_count": 2,
   "id": "8c8a0156-a558-4eaa-a08c-1897ce4dedff",
   "metadata": {},
   "outputs": [
    {
     "name": "stdout",
     "output_type": "stream",
     "text": [
      "C:\\code\\signal_processing_dev\\dstMain_reference_model\n"
     ]
    }
   ],
   "source": [
    "\n",
    "import os\n",
    "import sys\n",
    "import timeit\n",
    "import numpy as np\n",
    "import cv2\n",
    "import matplotlib.pyplot as plt\n",
    "import glob\n",
    "\n",
    "cwd = os.getcwd()\n",
    "print(cwd)\n",
    "\n",
    "from BF_main import read_data_and_configs, run_beamformer, run_image_processing\n",
    "from env_data_op import env_data_get, env_data_compress, env_qbp_filter,env_data_interpolate\n",
    "from img_data_op import image_conversion, image_polar,image_crop, image_plot_linear, image_plot_curvelinear, image_interpolate, image_LUT, image_contrast, image_sharpness"
   ]
  },
  {
   "cell_type": "code",
   "execution_count": 3,
   "id": "ec8fcbed-29da-49e1-9591-2aa47ae08273",
   "metadata": {},
   "outputs": [
    {
     "name": "stdout",
     "output_type": "stream",
     "text": [
      "grabbing data and config\n"
     ]
    }
   ],
   "source": [
    "print(\"grabbing data and config\")\n",
    "\n",
    "Tim = True\n",
    "\n",
    "if not Tim:\n",
    "\n",
    "    # path and presets\n",
    "    config_dir = 'C:\\\\Codes\\\\github\\\\signal_processing_dev\\\\SK_reference_model\\\\presets'#\n",
    "    file_path = 'C:\\\\Users\\\\dst01\\\\OneDrive - deepsightinc.com\\\\work\\\\Projects\\\\Mixed Array Transducer\\\\20241016 harmonic imaging\\\\pic_mrf2-10_3.05mhz_2cyc_20hv_wfm3_inv'\n",
    "    file_name = \"_PIC_b_mode_0_raw_rf\"\n",
    "\n",
    "    probe_dir = 'DL3-14'\n",
    "    config_path = os.path.join(config_dir,probe_dir)\n",
    "\n",
    "    preset_name = 'DL3-14_PIC'\n",
    "\n",
    "else:\n",
    "    data_dir =  'Challenge_sets/L7-4_General'\n",
    "    config_path = os.path.join(data_dir, 'presets/scratch')\n",
    "\n",
    "    raw_rf_dir = os.path.join(data_dir, 'data')\n",
    "\n",
    "    file_name = 'L7-4_General_b_mode_0_raw_rf.npy'\n",
    "    raw_rf_path = os.path.join(raw_rf_dir, file_name)"
   ]
  },
  {
   "cell_type": "code",
   "execution_count": 4,
   "id": "43c266ab-d8cf-4430-8e09-c9aa6aa74ad3",
   "metadata": {},
   "outputs": [
    {
     "name": "stdout",
     "output_type": "stream",
     "text": [
      "loading preset Challenge_sets/L7-4_General\\presets/scratch\n"
     ]
    }
   ],
   "source": [
    "rf_data, xdc, field, param = read_data_and_configs(raw_rf_path, config_path)"
   ]
  },
  {
   "cell_type": "code",
   "execution_count": 5,
   "id": "2a57f585-0f6e-4441-bb19-31ce2d3e7890",
   "metadata": {},
   "outputs": [
    {
     "name": "stdout",
     "output_type": "stream",
     "text": [
      "processing reconstruction\n",
      "precomputing geometry...\n",
      "precomputing field...\n",
      "performing delay and sum...\n",
      "running GPU beamformer\n",
      "beamforming took 34.04718639999919 seconds \n"
     ]
    }
   ],
   "source": [
    "recon_image = run_beamformer(rf_data, xdc, field, param)"
   ]
  },
  {
   "cell_type": "code",
   "execution_count": 6,
   "id": "8bf0bcfe-c579-419a-b8a3-15afabf0f854",
   "metadata": {},
   "outputs": [],
   "source": [
    "num_samples = rf_data.shape[1]"
   ]
  },
  {
   "cell_type": "code",
   "execution_count": 7,
   "id": "65d26218-0c4c-4dea-a802-cbce006787c2",
   "metadata": {},
   "outputs": [
    {
     "name": "stdout",
     "output_type": "stream",
     "text": [
      "getting envelope\n",
      "plotting for display\n"
     ]
    },
    {
     "ename": "AttributeError",
     "evalue": "'NoneType' object has no attribute 'imshow'",
     "output_type": "error",
     "traceback": [
      "\u001b[1;31m---------------------------------------------------------------------------\u001b[0m",
      "\u001b[1;31mAttributeError\u001b[0m                            Traceback (most recent call last)",
      "Cell \u001b[1;32mIn[7], line 2\u001b[0m\n\u001b[0;32m      1\u001b[0m scale \u001b[38;5;241m=\u001b[39m \u001b[38;5;241m7\u001b[39m\n\u001b[1;32m----> 2\u001b[0m \u001b[43mrun_image_processing\u001b[49m\u001b[43m(\u001b[49m\u001b[43mrecon_image\u001b[49m\u001b[43m,\u001b[49m\u001b[43m \u001b[49m\u001b[43mxdc\u001b[49m\u001b[43m,\u001b[49m\u001b[43m \u001b[49m\u001b[43mfield\u001b[49m\u001b[43m,\u001b[49m\u001b[43m \u001b[49m\u001b[43mparam\u001b[49m\u001b[43m,\u001b[49m\u001b[43m \u001b[49m\u001b[43mnum_samples\u001b[49m\u001b[43m,\u001b[49m\u001b[43m \u001b[49m\u001b[43mscale\u001b[49m\u001b[43m \u001b[49m\u001b[38;5;241;43m=\u001b[39;49m\u001b[43m \u001b[49m\u001b[43mscale\u001b[49m\u001b[43m)\u001b[49m\n",
      "File \u001b[1;32mC:\\code\\signal_processing_dev\\dstMain_reference_model\\BF_main.py:123\u001b[0m, in \u001b[0;36mrun_image_processing\u001b[1;34m(recon_image, xdc, field, param, num_samples, scale, title, ax)\u001b[0m\n\u001b[0;32m    118\u001b[0m     image_plot_curvelinear(np\u001b[38;5;241m.\u001b[39mfliplr(US_img),\n\u001b[0;32m    119\u001b[0m                            img_length\u001b[38;5;241m=\u001b[39mfield[\u001b[38;5;124m\"\u001b[39m\u001b[38;5;124maxial_size\u001b[39m\u001b[38;5;124m\"\u001b[39m] \u001b[38;5;241m*\u001b[39m num_samples \u001b[38;5;241m+\u001b[39m (\n\u001b[0;32m    120\u001b[0m                                        xdc[\u001b[38;5;124m\"\u001b[39m\u001b[38;5;124mradius\u001b[39m\u001b[38;5;124m\"\u001b[39m] \u001b[38;5;241m*\u001b[39m (\u001b[38;5;241m1\u001b[39m \u001b[38;5;241m-\u001b[39m np\u001b[38;5;241m.\u001b[39mcos(xdc[\u001b[38;5;124m\"\u001b[39m\u001b[38;5;124mangle\u001b[39m\u001b[38;5;124m\"\u001b[39m] \u001b[38;5;241m/\u001b[39m \u001b[38;5;241m2\u001b[39m))),  \u001b[38;5;66;03m# length of image, [m]\u001b[39;00m\n\u001b[0;32m    121\u001b[0m                            fig_title\u001b[38;5;241m=\u001b[39m\u001b[38;5;124m'\u001b[39m\u001b[38;5;124mUS B Scan\u001b[39m\u001b[38;5;124m'\u001b[39m)\n\u001b[0;32m    122\u001b[0m \u001b[38;5;28;01melse\u001b[39;00m:\n\u001b[1;32m--> 123\u001b[0m     \u001b[43mimage_plot_linear\u001b[49m\u001b[43m(\u001b[49m\u001b[43mnp\u001b[49m\u001b[38;5;241;43m.\u001b[39;49m\u001b[43mfliplr\u001b[49m\u001b[43m(\u001b[49m\u001b[43mUS_img\u001b[49m\u001b[43m)\u001b[49m\u001b[43m,\u001b[49m\n\u001b[0;32m    124\u001b[0m \u001b[43m                      \u001b[49m\u001b[43mimg_length\u001b[49m\u001b[38;5;241;43m=\u001b[39;49m\u001b[43mfield\u001b[49m\u001b[43m[\u001b[49m\u001b[38;5;124;43m\"\u001b[39;49m\u001b[38;5;124;43maxial_size\u001b[39;49m\u001b[38;5;124;43m\"\u001b[39;49m\u001b[43m]\u001b[49m\u001b[43m \u001b[49m\u001b[38;5;241;43m*\u001b[39;49m\u001b[43m \u001b[49m\u001b[43mnum_samples\u001b[49m\u001b[43m,\u001b[49m\u001b[43m  \u001b[49m\u001b[38;5;66;43;03m# length of image, [m]\u001b[39;49;00m\n\u001b[0;32m    125\u001b[0m \u001b[43m                      \u001b[49m\u001b[43mlateral_length\u001b[49m\u001b[38;5;241;43m=\u001b[39;49m\u001b[43mxdc\u001b[49m\u001b[43m[\u001b[49m\u001b[38;5;124;43m'\u001b[39;49m\u001b[38;5;124;43melement_num\u001b[39;49m\u001b[38;5;124;43m'\u001b[39;49m\u001b[43m]\u001b[49m\u001b[43m \u001b[49m\u001b[38;5;241;43m*\u001b[39;49m\u001b[43m \u001b[49m\u001b[43mxdc\u001b[49m\u001b[43m[\u001b[49m\u001b[38;5;124;43m\"\u001b[39;49m\u001b[38;5;124;43melement_width\u001b[39;49m\u001b[38;5;124;43m\"\u001b[39;49m\u001b[43m]\u001b[49m\u001b[43m,\u001b[49m\u001b[43m  \u001b[49m\u001b[38;5;66;43;03m# width of image, [m]\u001b[39;49;00m\n\u001b[0;32m    126\u001b[0m \u001b[43m                      \u001b[49m\u001b[43mfig_title\u001b[49m\u001b[38;5;241;43m=\u001b[39;49m\u001b[38;5;124;43m'\u001b[39;49m\u001b[38;5;124;43mUS B Scan\u001b[39;49m\u001b[38;5;124;43m'\u001b[39;49m\u001b[43m,\u001b[49m\u001b[43m \u001b[49m\u001b[43max\u001b[49m\u001b[43m \u001b[49m\u001b[38;5;241;43m=\u001b[39;49m\u001b[43m \u001b[49m\u001b[43max\u001b[49m\u001b[43m)\u001b[49m\n\u001b[0;32m    129\u001b[0m plt\u001b[38;5;241m.\u001b[39msavefig(\u001b[38;5;124mf\u001b[39m\u001b[38;5;124m'\u001b[39m\u001b[38;5;132;01m{\u001b[39;00mtitle\u001b[38;5;132;01m}\u001b[39;00m\u001b[38;5;124m.png\u001b[39m\u001b[38;5;124m'\u001b[39m); plt\u001b[38;5;241m.\u001b[39mshow()\n",
      "File \u001b[1;32mC:\\code\\signal_processing_dev\\dstMain_reference_model\\img_data_op.py:83\u001b[0m, in \u001b[0;36mimage_plot_linear\u001b[1;34m(US_img, img_length, lateral_length, fig_title, ax)\u001b[0m\n\u001b[0;32m     81\u001b[0m \u001b[38;5;28;01mdef\u001b[39;00m \u001b[38;5;21mimage_plot_linear\u001b[39m(US_img,img_length \u001b[38;5;241m=\u001b[39m \u001b[38;5;241m0.05\u001b[39m,lateral_length \u001b[38;5;241m=\u001b[39m \u001b[38;5;241m0.0576\u001b[39m, fig_title\u001b[38;5;241m=\u001b[39m\u001b[38;5;124m'\u001b[39m\u001b[38;5;124mUS B Scan\u001b[39m\u001b[38;5;124m'\u001b[39m, ax\u001b[38;5;241m=\u001b[39m\u001b[38;5;28;01mNone\u001b[39;00m):\n\u001b[0;32m     82\u001b[0m     \u001b[38;5;66;03m# calculate the image dimensions\u001b[39;00m\n\u001b[1;32m---> 83\u001b[0m     \u001b[43max\u001b[49m\u001b[38;5;241;43m.\u001b[39;49m\u001b[43mimshow\u001b[49m(US_img, cmap\u001b[38;5;241m=\u001b[39m\u001b[38;5;124m'\u001b[39m\u001b[38;5;124mgray\u001b[39m\u001b[38;5;124m'\u001b[39m, vmin\u001b[38;5;241m=\u001b[39m\u001b[38;5;241m0\u001b[39m, vmax\u001b[38;5;241m=\u001b[39m\u001b[38;5;241m1\u001b[39m, extent\u001b[38;5;241m=\u001b[39m[\u001b[38;5;241m0\u001b[39m, lateral_length\u001b[38;5;241m/\u001b[39mimg_length, \u001b[38;5;241m0\u001b[39m, \u001b[38;5;241m1\u001b[39m])\n\u001b[0;32m     84\u001b[0m     ax\u001b[38;5;241m.\u001b[39mset_title(fig_title)\n\u001b[0;32m     85\u001b[0m     ax\u001b[38;5;241m.\u001b[39mset_xticks(np\u001b[38;5;241m.\u001b[39marange(\u001b[38;5;241m0\u001b[39m, \u001b[38;5;241m0.999\u001b[39m\u001b[38;5;241m*\u001b[39mlateral_length\u001b[38;5;241m/\u001b[39mimg_length, step\u001b[38;5;241m=\u001b[39m\u001b[38;5;241m0.249\u001b[39m\u001b[38;5;241m*\u001b[39mlateral_length\u001b[38;5;241m/\u001b[39mimg_length),[\u001b[38;5;124m'\u001b[39m\u001b[38;5;124mch1\u001b[39m\u001b[38;5;124m'\u001b[39m, \u001b[38;5;124m'\u001b[39m\u001b[38;5;124mch32\u001b[39m\u001b[38;5;124m'\u001b[39m,\u001b[38;5;124m'\u001b[39m\u001b[38;5;124mch64\u001b[39m\u001b[38;5;124m'\u001b[39m,\u001b[38;5;124m'\u001b[39m\u001b[38;5;124mch96\u001b[39m\u001b[38;5;124m'\u001b[39m,\u001b[38;5;124m'\u001b[39m\u001b[38;5;124mch128\u001b[39m\u001b[38;5;124m'\u001b[39m] )\n",
      "\u001b[1;31mAttributeError\u001b[0m: 'NoneType' object has no attribute 'imshow'"
     ]
    }
   ],
   "source": [
    "scale = 7\n",
    "run_image_processing(recon_image, xdc, field, param, num_samples, scale = scale)"
   ]
  },
  {
   "cell_type": "code",
   "execution_count": null,
   "id": "81f46fea-0e38-4b29-b14c-5559a0ad9a34",
   "metadata": {},
   "outputs": [],
   "source": [
    "# sum the data through transmits\n",
    "recon_image_sum = np.sum(recon_image,axis = 1)/2**15 \n",
    "\n",
    "print(\"getting envelope\") \n",
    "# get envelop and compress\n",
    "recon_image_sum = env_qbp_filter(recon_image_sum, filter_kernel=np.array(param[\"filter_kernel\"]))\n",
    "recon_image_sum = env_data_interpolate(recon_image_sum,interp_factor = 2)"
   ]
  },
  {
   "cell_type": "code",
   "execution_count": null,
   "id": "46ee7541-edd5-4908-91f8-e9c60a99ae7b",
   "metadata": {},
   "outputs": [],
   "source": [
    "# apodize it to prevent hilbert transform artfact\n",
    "recon_image_sum [:,-4:]=0; recon_image_sum [:,:4]=0"
   ]
  },
  {
   "cell_type": "code",
   "execution_count": null,
   "id": "86c8b286-64f3-4354-9b8f-f8c3541cc30d",
   "metadata": {},
   "outputs": [],
   "source": [
    "\n",
    "\n",
    "# recon_US_img_data = env_qbp_filter(recon_US_img_data, filter_kernal=bf_config[\"line_processor\"][\"qbp_arms_2\"][\"filter_kernel\"])\n",
    "recon_US_img_data = env_data_get(recon_image_sum, median_filter_size=1)+1e-12\n",
    "recon_US_img_dB = env_data_compress(recon_US_img_data,pow=param[\"filter_power\"], value_reject = 0.0)"
   ]
  },
  {
   "cell_type": "code",
   "execution_count": null,
   "id": "ff2d3152-82d3-4d9c-bbc6-1c2e54872b49",
   "metadata": {},
   "outputs": [],
   "source": [
    "\n",
    "# %%\n",
    "print(\"plotting for display\") \n",
    "US_img = image_conversion(recon_US_img_dB/7,Resize_1=1,Resize_2=1) # convert to uint8\n",
    "US_img = image_crop(US_img, img_length=field[\"axial_size\"]*rf_data.shape[1], linelength = field[\"line_length\"]) # crop basedon available signal length\n",
    "\n",
    "# adding image manipulation for better display\n",
    "# US_img = image_interpolate(US_img,interp_channel=4,interp_depth=1) # interpolate the image\n",
    "# US_img = image_LUT(US_img,LUT = np.linspace(0,255,256).astype('uint8') ) # use LUT\n",
    "# US_img = image_contrast(US_img, brightness = 1, contrast = 1)\n",
    "# US_img = image_sharpness(US_img, kernel = np.array([[-1,-1,-1], [-1,9,-1], [-1,-1,-1]]))\n",
    "\n",
    "if xdc[\"type\"] == 1:\n",
    "    US_img = image_polar(US_img, xdc,field,param)# polar convert the image\n",
    "    image_plot_curvelinear(np.fliplr(US_img),\n",
    "                        img_length = field[\"axial_size\"]*rf_data.shape[1]+(xdc[\"radius\"]*(1-np.cos(xdc[\"angle\"]/2))), # length of image, [m]\n",
    "                        fig_title='US B Scan')\n",
    "else:\n",
    "    image_plot_linear(np.fliplr(US_img),\n",
    "                  img_length = field[\"axial_size\"]*rf_data.shape[1], # length of image, [m]\n",
    "                  lateral_length = xdc['element_num']*xdc[\"element_width\"], # width of image, [m]\n",
    "                  fig_title='US B Scan')"
   ]
  },
  {
   "cell_type": "code",
   "execution_count": null,
   "id": "9f8ffad6-15c1-4c60-9e88-ec299c8251f0",
   "metadata": {},
   "outputs": [],
   "source": [
    "data_dir"
   ]
  },
  {
   "cell_type": "code",
   "execution_count": null,
   "id": "05b21007-b376-4641-ab3d-02ee41e4a74e",
   "metadata": {},
   "outputs": [],
   "source": [
    "title = raw_rf_path.split('\\\\')[-1].split('.')[0]"
   ]
  },
  {
   "cell_type": "code",
   "execution_count": null,
   "id": "b0c74a38-db92-475c-b3fb-adea2577a6b2",
   "metadata": {},
   "outputs": [],
   "source": [
    "plt.savefig(f'{title}.png')"
   ]
  },
  {
   "cell_type": "code",
   "execution_count": null,
   "id": "2accaf12-22f8-4f36-9e2e-7daaef66b1be",
   "metadata": {},
   "outputs": [],
   "source": []
  },
  {
   "cell_type": "code",
   "execution_count": null,
   "id": "19dfbbed-3887-450a-921e-11333c30387d",
   "metadata": {},
   "outputs": [],
   "source": []
  }
 ],
 "metadata": {
  "kernelspec": {
   "display_name": "Python 3 (ipykernel)",
   "language": "python",
   "name": "python3"
  },
  "language_info": {
   "codemirror_mode": {
    "name": "ipython",
    "version": 3
   },
   "file_extension": ".py",
   "mimetype": "text/x-python",
   "name": "python",
   "nbconvert_exporter": "python",
   "pygments_lexer": "ipython3",
   "version": "3.11.9"
  }
 },
 "nbformat": 4,
 "nbformat_minor": 5
}
