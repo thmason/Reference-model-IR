{
 "cells": [
  {
   "cell_type": "code",
   "execution_count": 1,
   "id": "e9ef991e-3cf1-4f98-b382-6aa7f9eee1ee",
   "metadata": {},
   "outputs": [],
   "source": [
    "# %% \n",
    "# import packages\n",
    "import os\n",
    "import sys\n",
    "import timeit\n",
    "import numpy as np\n",
    "import cv2\n",
    "import matplotlib.pyplot as plt\n",
    "import glob\n",
    "\n",
    "sys.path.insert(0,'C:\\\\Codes\\\\github\\\\signal_processing_dev\\\\dstMain_reference_model')\n",
    "\n",
    "from preset_parser import config_load_preset, config_para_parse, config_para_process\n",
    "from rf_data_op import rf_data_read,rf_data_read_npy,rf_data_remap, rf_data_bandpass,rf_data_interp,rf_data_append, rf_data_apod, rf_data_diag, rf_data_plot\n",
    "from beamformer_calc_rtbf import recon_compute_geometry, recon_field_pre_compute, recon_process_rtbf\n",
    "from env_data_op import env_data_get, env_data_compress, env_qbp_filter,env_data_interpolate\n",
    "from img_data_op import image_conversion, image_polar,image_crop, image_plot_linear, image_plot_curvelinear, image_interpolate, image_LUT, image_contrast, image_sharpness\n",
    "\n",
    "from beamformer_calc_rtbf_GPU import recon_process_rtbf"
   ]
  },
  {
   "cell_type": "code",
   "execution_count": 2,
   "id": "66ab238c-1e2b-4cac-ba7d-746944c0a6fd",
   "metadata": {},
   "outputs": [],
   "source": [
    "def read_data_and_configs(raw_rf_path, config_path):\n",
    "    preset = config_load_preset(config_path)\n",
    "\n",
    "    # rf_data = rf_data_read(file_path) # use this to read bin files\n",
    "    rf_data = rf_data_read_npy(raw_rf_path, file_name=None)  # use this to read npy files\n",
    "    rf_data = rf_data_remap(rf_data, list(preset[\"beamformer\"].config_set[0].pic_sub_array.channel_map))\n",
    "    # rf_data_plot(rf_data_diag(rf_data), loc_plot=64,fig_title='P/E image')# plot the rf P/E for inspection\n",
    "\n",
    "    # interpolates RF data in the time direction. NOTE: interpolation factor should be a parameter read from tableInputs.pbtx\n",
    "    # rf_data = rf_data_interp(rf_data,preset['table_inputs'].rx_mrf_decim_rate[0])\n",
    "    # data apodization, zeros the last two points for signal artifact removal\n",
    "    rf_data = rf_data_apod(rf_data, 2, loc=0)\n",
    "    # data appending, add two zeros at the end.  Beamformer will use this sample when delay and sum points beamformer to out of range data\n",
    "    rf_data = rf_data_append(rf_data, 2, loc=0)\n",
    "\n",
    "    # reformat config into\n",
    "    # xdc:  transducer geometries\n",
    "    # field:  acoustic field parameters\n",
    "    # param:  other miscellaneous parameters\n",
    "    xdc, field, param = config_para_parse(preset, rf_data.shape)\n",
    "    field[\"line_length\"] = 0.12\n",
    "    xdc, field, param = config_para_process(xdc, field, param)\n",
    "    xdc[\n",
    "        \"xmit_focus\"] = 0.050  # 0.03494 # NOTE : currently manual definition of xdc focus since the're no way to pull focus information except from DSTMain screenshot\n",
    "\n",
    "    return rf_data, xdc, field, param"
   ]
  },
  {
   "cell_type": "code",
   "execution_count": 3,
   "id": "b3ccdb29-7eff-4e3e-8050-32fcfc491226",
   "metadata": {},
   "outputs": [
    {
     "name": "stdout",
     "output_type": "stream",
     "text": [
      "grabbing data and config\n"
     ]
    }
   ],
   "source": [
    "print(\"grabbing data and config\")\n",
    "\n",
    "Tim = True\n",
    "\n",
    "if not Tim:\n",
    "\n",
    "    # path and presets\n",
    "    config_dir = 'C:\\\\Codes\\\\github\\\\signal_processing_dev\\\\SK_reference_model\\\\presets'#\n",
    "    file_path = 'C:\\\\Users\\\\dst01\\\\OneDrive - deepsightinc.com\\\\work\\\\Projects\\\\Mixed Array Transducer\\\\20241016 harmonic imaging\\\\pic_mrf2-10_3.05mhz_2cyc_20hv_wfm3_inv'\n",
    "    file_name = \"_PIC_b_mode_0_raw_rf\"\n",
    "\n",
    "    probe_dir = 'DL3-14'\n",
    "    config_path = os.path.join(config_dir,probe_dir)\n",
    "\n",
    "    preset_name = 'DL3-14_PIC'\n",
    "\n",
    "else:\n",
    "    data_dir =  'Challenge_sets/L7-4_General'\n",
    "    config_path = os.path.join(data_dir, 'presets/scratch')\n",
    "\n",
    "    raw_rf_dir = os.path.join(data_dir, 'data')\n",
    "\n",
    "    file_name = 'L7-4_General_b_mode_0_raw_rf.npy'\n",
    "    raw_rf_path = os.path.join(raw_rf_dir, file_name)\n"
   ]
  },
  {
   "cell_type": "code",
   "execution_count": 4,
   "id": "4f2a88b8-d4c2-4de1-949c-8a339b8861d7",
   "metadata": {},
   "outputs": [
    {
     "name": "stdout",
     "output_type": "stream",
     "text": [
      "loading preset Challenge_sets/L7-4_General\\presets/scratch\n"
     ]
    }
   ],
   "source": [
    "rf_data, xdc, field, param = read_data_and_configs(raw_rf_path, config_path)"
   ]
  },
  {
   "cell_type": "code",
   "execution_count": 5,
   "id": "3ea988b7-d01a-4e9f-864e-2f5fb0f80668",
   "metadata": {},
   "outputs": [
    {
     "name": "stdout",
     "output_type": "stream",
     "text": [
      "processing reconstruction\n",
      "precomputing geometry...\n",
      "precomputing field...\n"
     ]
    }
   ],
   "source": [
    "print(\"processing reconstruction\")\n",
    "\n",
    "# generate calculated parameters and add to existing config stuctures, params broken out to facilitate parameter optimization\n",
    "# pre compute reconstruction field geometry and limiters\n",
    "print('precomputing geometry...')\n",
    "recon = recon_compute_geometry(xdc, field, param)  # pre-compute reconstruction field\n",
    "print('precomputing field...')\n",
    "recon = recon_field_pre_compute(recon, xdc, field, param)"
   ]
  },
  {
   "cell_type": "code",
   "execution_count": 68,
   "id": "3b3e5e0a-40df-4ba5-b6c9-bfd6455f82bd",
   "metadata": {},
   "outputs": [
    {
     "name": "stdout",
     "output_type": "stream",
     "text": [
      "running GPU beamformer\n"
     ]
    }
   ],
   "source": [
    "print('running GPU beamformer')\n",
    "\"\"\"\n",
    "calculates the delay, linearize operation and perform lookup\n",
    "Parameters\n",
    "----------\n",
    "rf_data, recon, field, param\n",
    "\n",
    "Returns : recon_image_sum\n",
    "-------\n",
    "\"\"\"\n",
    "# convert numpy arrays to cupy arrays\n",
    "#recon[\"tx_limiter\"] = recon[\"tx_limiter\"].get()\n",
    "import cupy as np\n",
    "rf_data = np.asarray(rf_data)\n",
    "\n",
    "# process beamforming\n",
    "c_inv = 1/field[\"c\"]\n",
    "# calculate delay from transmit beam center to each virtual point source\n",
    "T_vps = xdc[\"xmit_focus\"] * c_inv + param[\"tx_delay\"] \n",
    "# store data into linear matrix, matrix shape: ( (param['recon_num_depth'])* (field[\"channels\"]) *(field[\"lines\"]) ) * 3\n",
    "if param[\"no_tx_limiter\"] == 1: \n",
    "    recon[\"tx_limiter\"] = np.ones(recon[\"tx_limiter\"].shape)\n",
    "    \n",
    "# tiling coordinates to create meshgrid and then flatten\n",
    "p_vps_linear = np.reshape(np.tile(recon[\"vps_grid_3D\"],(1,field[\"channels\"]*param['recon_num_depth'])),\n",
    "                            [(field[\"lines\"]) * (field[\"channels\"]) * (param['recon_num_depth']) ,3])\n",
    "p_rcv_linear = np.reshape(np.tile(recon[\"rcv_xdc_grid_3D\"],(field[\"lines\"],1,param['recon_num_depth'])),\n",
    "                            [(field[\"lines\"]) * (field[\"channels\"]) * (param['recon_num_depth']) ,3])\n",
    "p_pixel_linear=np.reshape(np.tile(recon[\"px_grid_3D\"],(field[\"channels\"],1)),\n",
    "                        [(field[\"lines\"])*(field[\"channels\"])*(param['recon_num_depth']),3])\n",
    "T_vps_linear = np.tile(T_vps,(field[\"lines\"]*field[\"channels\"]*param['recon_num_depth'])) \n",
    "\n",
    "# calculate vectors from virtual point source to pixel locations\n",
    "P_p_to_vps_linear = p_pixel_linear - p_vps_linear\n",
    "# calculate vectors from pixel locations to receive elements\n",
    "P_p_to_rcv_linear = p_pixel_linear - p_rcv_linear\n",
    "# calculate delays from pixel to virtual point source \n",
    "T_p_to_vps_linear = np.linalg.norm(P_p_to_vps_linear, axis=1)*c_inv \n",
    "# calculate delays from pixel to channel elements \n",
    "T_p_to_rcv_linear = np.linalg.norm(P_p_to_rcv_linear, axis=1)*c_inv\n",
    "\n",
    "# flatten limiters\n",
    "# rcv_limiter_linear = np.reshape(recon[\"rcv_limiter\"],[(field[\"channels\"])*(field[\"lines\"])*(param['recon_num_depth'])])\n",
    "rcv_norm_linear = 1/np.reshape(np.tile(np.sum(recon[\"rcv_limiter\"],axis=0)+1e-12,(field[\"lines\"])),\\\n",
    "                                [(field[\"channels\"])*(field[\"lines\"])*(param['recon_num_depth'])])\n",
    "recon_apod_linear = np.reshape(np.asarray(recon[\"apod_window\"]),[(field[\"channels\"])*(field[\"lines\"])* (param['recon_num_depth'])])\n",
    "\n",
    "# RTBF line of interest for each transmit, you can set it to zero to manually disable rtbf\n",
    "loop_range = np.arange(-int(param[\"recon_tx_width_wavelength\"]/2),int(param[\"recon_tx_width_wavelength\"]/2)+1).get()"
   ]
  },
  {
   "cell_type": "code",
   "execution_count": 69,
   "id": "9933549f-9ad7-41e8-b2d9-43d1a8fbfc2d",
   "metadata": {},
   "outputs": [
    {
     "name": "stdout",
     "output_type": "stream",
     "text": [
      "<class 'numpy.ndarray'>\n"
     ]
    }
   ],
   "source": [
    "if len(loop_range) == 1:\n",
    "    tx_norm = 1/(recon[\"tx_limiter\"][63,63+loop_range[0],:]+1e-12)\n",
    "else:\n",
    "    print(type(recon[\"tx_limiter\"]))\n",
    "    tx_norm = 1/(np.sum(recon[\"tx_limiter\"][63,63+loop_range,:],axis=0)+1e-12)"
   ]
  },
  {
   "cell_type": "code",
   "execution_count": 70,
   "id": "97031593-6e58-4f9c-9825-b690a3e2081d",
   "metadata": {},
   "outputs": [],
   "source": [
    "tx_norm = (tx_norm/np.min(tx_norm)).astype(int)\n",
    "tx_norm_linear = np.tile(tx_norm,(field[\"lines\"]*field[\"channels\"]))\n",
    "norm_linear = rcv_norm_linear*recon_apod_linear*tx_norm_linear"
   ]
  },
  {
   "cell_type": "code",
   "execution_count": 71,
   "id": "2274c22e-6feb-4430-b4e1-209b32192209",
   "metadata": {},
   "outputs": [],
   "source": [
    "norm_linear = np.where(norm_linear>20, 0 , norm_linear) \n",
    "\n",
    "if param[\"no_rcv_limiter\"] == 1: \n",
    "    norm_linear = np.ones(norm_linear.shape)   "
   ]
  },
  {
   "cell_type": "code",
   "execution_count": 72,
   "id": "a2b075d2-582a-46d1-b33b-2d83af1bf3b7",
   "metadata": {},
   "outputs": [],
   "source": [
    "\n",
    "\n",
    "for i in loop_range:# loop through rtbf lines\n",
    "    tx_limiter_linear = np.tile(recon[\"tx_limiter\"][63,63+i,:], [(field[\"lines\"])*(field[\"channels\"])])\n",
    "    # sum all delays\n",
    "    delay_sample_linear = np.round((T_p_to_rcv_linear * np.sign(P_p_to_rcv_linear[:,0]) * int(not(param[\"no_rcv_beamforming\"]))\n",
    "                                    + np.roll(T_p_to_vps_linear,i*field[\"channels\"]*param['recon_num_depth'],axis=0)*\n",
    "                                    np.roll(np.sign(P_p_to_vps_linear[:,0]),i*field[\"channels\"]*param['recon_num_depth'],axis=0)\n",
    "                                    + T_vps_linear)*field[\"fs\"]).astype(\"int\")\n",
    "    # range gate,  this will use the last sample (which is set to zero) when out of data range\n",
    "    delay_sample_linear = np.where ((delay_sample_linear > rf_data.shape[1]-1) | (delay_sample_linear < 0), rf_data.shape[1]-1, delay_sample_linear)\n",
    "\n",
    "    # helper functions to index RF data\n",
    "    index_0_linear = (((np.arange(len(tx_norm_linear))/param['recon_num_depth']).astype(\"int\")) % field[\"channels\"]).astype(\"int\") # channels\n",
    "    index_1_linear = (np.arange(len(tx_norm_linear))/(field[\"lines\"])/(param['recon_num_depth'])).astype(\"int\") # lines\n",
    "    \n",
    "    # lookup appropriate data for the calculated delay\n",
    "    recon_image_linear= rf_data[index_0_linear,delay_sample_linear,np.roll(index_1_linear,i*field[\"channels\"]*param['recon_num_depth'])] * norm_linear *tx_limiter_linear #conduct lookup with apodization\n",
    "    # reshape for 3d data output\n",
    "    recon_image = np.reshape(recon_image_linear,[(field[\"lines\"]),(field[\"channels\"]),(param['recon_num_depth'])])\n",
    "    \n",
    "    # zeros the pixels with looparound VPS locations\n",
    "    if i > 0:\n",
    "        recon_image[0:i,:,:] = 0 \n",
    "    elif i < 0:\n",
    "        recon_image[i:(field[\"channels\"]),:,:] = 0 \n",
    "    \n",
    "    # sum over the RTBF resonctruction\n",
    "    if i == loop_range[0]:\n",
    "        recon_image_log = recon_image\n",
    "    else:\n",
    "        recon_image_log = recon_image_log + recon_image\n",
    "\n",
    "recon_image_sum = recon_image_log/len(loop_range)+1e-9"
   ]
  },
  {
   "cell_type": "code",
   "execution_count": 73,
   "id": "303714de-afbe-4d12-b161-28c913d0835a",
   "metadata": {},
   "outputs": [
    {
     "ename": "NameError",
     "evalue": "name 'run_image_processing' is not defined",
     "output_type": "error",
     "traceback": [
      "\u001b[1;31m---------------------------------------------------------------------------\u001b[0m",
      "\u001b[1;31mNameError\u001b[0m                                 Traceback (most recent call last)",
      "Cell \u001b[1;32mIn[73], line 2\u001b[0m\n\u001b[0;32m      1\u001b[0m scale \u001b[38;5;241m=\u001b[39m \u001b[38;5;241m7\u001b[39m\n\u001b[1;32m----> 2\u001b[0m \u001b[43mrun_image_processing\u001b[49m(recon_image, xdc, field, param, num_samples, scale \u001b[38;5;241m=\u001b[39m scale)\n",
      "\u001b[1;31mNameError\u001b[0m: name 'run_image_processing' is not defined"
     ]
    }
   ],
   "source": [
    "scale = 7\n",
    "run_image_processing(recon_image, xdc, field, param, num_samples, scale = scale)"
   ]
  },
  {
   "cell_type": "code",
   "execution_count": null,
   "id": "f7bff4ab-d5c5-413e-a5ef-3086ddd3fff5",
   "metadata": {},
   "outputs": [],
   "source": []
  }
 ],
 "metadata": {
  "kernelspec": {
   "display_name": "Python 3 (ipykernel)",
   "language": "python",
   "name": "python3"
  },
  "language_info": {
   "codemirror_mode": {
    "name": "ipython",
    "version": 3
   },
   "file_extension": ".py",
   "mimetype": "text/x-python",
   "name": "python",
   "nbconvert_exporter": "python",
   "pygments_lexer": "ipython3",
   "version": "3.11.9"
  }
 },
 "nbformat": 4,
 "nbformat_minor": 5
}
